{
 "cells": [
  {
   "cell_type": "markdown",
   "metadata": {},
   "source": [
    "# Proyek Analisis Data: Nama dataset"
   ]
  },
  {
   "cell_type": "code",
   "execution_count": null,
   "metadata": {},
   "outputs": [],
   "source": [
    "- Nama: Aldiansyah Anugrah Ramadhan\n",
    "- Email: aldiansyahaldi621@gmail.com\n",
    "- Id Dicoding:"
   ]
  },
  {
   "cell_type": "markdown",
   "metadata": {},
   "source": [
    "## Menentukan Pertanyaan Bisnis"
   ]
  },
  {
   "cell_type": "markdown",
   "metadata": {},
   "source": [
    "- Berapa kadar rataan tahunan PM2.5, PM10, CO, O3, NO2 dan SO2 di kota Aotizhongxin dan kapan mencapai nilai maksimum dan minimum ? \n",
    "- Berapa kadar rataan tahunan PM2.5, PM10, CO, O3, NO2 dan SO2 di kota Wanshouxigong dan kapan mencapai nilai maksimum dan minimum ? "
   ]
  },
  {
   "cell_type": "markdown",
   "metadata": {},
   "source": [
    "## Menyiapkan semua library yang dibutuhkan"
   ]
  },
  {
   "cell_type": "code",
   "execution_count": 2,
   "metadata": {},
   "outputs": [],
   "source": [
    "import numpy as np\n",
    "import pandas as pd\n",
    "import seaborn as sns\n",
    "import matplotlib.pyplot as plt"
   ]
  },
  {
   "cell_type": "markdown",
   "metadata": {},
   "source": [
    "## Data Wrangling"
   ]
  },
  {
   "cell_type": "markdown",
   "metadata": {},
   "source": [
    "### Gathering Data"
   ]
  },
  {
   "cell_type": "code",
   "execution_count": 3,
   "metadata": {},
   "outputs": [],
   "source": [
    "#Import dataset dengan menggunakan pandas\n",
    "aotizhongxin_df = pd.read_csv('./data/PRSA_Data_Aotizhongxin_20130301-20170228.csv')\n",
    "wanshouxigong_df = pd.read_csv('./data/PRSA_Data_Wanshouxigong_20130301-20170228.csv')"
   ]
  },
  {
   "cell_type": "markdown",
   "metadata": {},
   "source": [
    "### Assessing Data"
   ]
  },
  {
   "cell_type": "code",
   "execution_count": 4,
   "metadata": {},
   "outputs": [
    {
     "data": {
      "text/html": [
       "<div>\n",
       "<style scoped>\n",
       "    .dataframe tbody tr th:only-of-type {\n",
       "        vertical-align: middle;\n",
       "    }\n",
       "\n",
       "    .dataframe tbody tr th {\n",
       "        vertical-align: top;\n",
       "    }\n",
       "\n",
       "    .dataframe thead th {\n",
       "        text-align: right;\n",
       "    }\n",
       "</style>\n",
       "<table border=\"1\" class=\"dataframe\">\n",
       "  <thead>\n",
       "    <tr style=\"text-align: right;\">\n",
       "      <th></th>\n",
       "      <th>No</th>\n",
       "      <th>year</th>\n",
       "      <th>month</th>\n",
       "      <th>day</th>\n",
       "      <th>hour</th>\n",
       "      <th>PM2.5</th>\n",
       "      <th>PM10</th>\n",
       "      <th>SO2</th>\n",
       "      <th>NO2</th>\n",
       "      <th>CO</th>\n",
       "      <th>O3</th>\n",
       "      <th>TEMP</th>\n",
       "      <th>PRES</th>\n",
       "      <th>DEWP</th>\n",
       "      <th>RAIN</th>\n",
       "      <th>wd</th>\n",
       "      <th>WSPM</th>\n",
       "      <th>station</th>\n",
       "    </tr>\n",
       "  </thead>\n",
       "  <tbody>\n",
       "    <tr>\n",
       "      <th>0</th>\n",
       "      <td>1</td>\n",
       "      <td>2013</td>\n",
       "      <td>3</td>\n",
       "      <td>1</td>\n",
       "      <td>0</td>\n",
       "      <td>4.0</td>\n",
       "      <td>4.0</td>\n",
       "      <td>4.0</td>\n",
       "      <td>7.0</td>\n",
       "      <td>300.0</td>\n",
       "      <td>77.0</td>\n",
       "      <td>-0.7</td>\n",
       "      <td>1023.0</td>\n",
       "      <td>-18.8</td>\n",
       "      <td>0.0</td>\n",
       "      <td>NNW</td>\n",
       "      <td>4.4</td>\n",
       "      <td>Aotizhongxin</td>\n",
       "    </tr>\n",
       "    <tr>\n",
       "      <th>1</th>\n",
       "      <td>2</td>\n",
       "      <td>2013</td>\n",
       "      <td>3</td>\n",
       "      <td>1</td>\n",
       "      <td>1</td>\n",
       "      <td>8.0</td>\n",
       "      <td>8.0</td>\n",
       "      <td>4.0</td>\n",
       "      <td>7.0</td>\n",
       "      <td>300.0</td>\n",
       "      <td>77.0</td>\n",
       "      <td>-1.1</td>\n",
       "      <td>1023.2</td>\n",
       "      <td>-18.2</td>\n",
       "      <td>0.0</td>\n",
       "      <td>N</td>\n",
       "      <td>4.7</td>\n",
       "      <td>Aotizhongxin</td>\n",
       "    </tr>\n",
       "    <tr>\n",
       "      <th>2</th>\n",
       "      <td>3</td>\n",
       "      <td>2013</td>\n",
       "      <td>3</td>\n",
       "      <td>1</td>\n",
       "      <td>2</td>\n",
       "      <td>7.0</td>\n",
       "      <td>7.0</td>\n",
       "      <td>5.0</td>\n",
       "      <td>10.0</td>\n",
       "      <td>300.0</td>\n",
       "      <td>73.0</td>\n",
       "      <td>-1.1</td>\n",
       "      <td>1023.5</td>\n",
       "      <td>-18.2</td>\n",
       "      <td>0.0</td>\n",
       "      <td>NNW</td>\n",
       "      <td>5.6</td>\n",
       "      <td>Aotizhongxin</td>\n",
       "    </tr>\n",
       "    <tr>\n",
       "      <th>3</th>\n",
       "      <td>4</td>\n",
       "      <td>2013</td>\n",
       "      <td>3</td>\n",
       "      <td>1</td>\n",
       "      <td>3</td>\n",
       "      <td>6.0</td>\n",
       "      <td>6.0</td>\n",
       "      <td>11.0</td>\n",
       "      <td>11.0</td>\n",
       "      <td>300.0</td>\n",
       "      <td>72.0</td>\n",
       "      <td>-1.4</td>\n",
       "      <td>1024.5</td>\n",
       "      <td>-19.4</td>\n",
       "      <td>0.0</td>\n",
       "      <td>NW</td>\n",
       "      <td>3.1</td>\n",
       "      <td>Aotizhongxin</td>\n",
       "    </tr>\n",
       "    <tr>\n",
       "      <th>4</th>\n",
       "      <td>5</td>\n",
       "      <td>2013</td>\n",
       "      <td>3</td>\n",
       "      <td>1</td>\n",
       "      <td>4</td>\n",
       "      <td>3.0</td>\n",
       "      <td>3.0</td>\n",
       "      <td>12.0</td>\n",
       "      <td>12.0</td>\n",
       "      <td>300.0</td>\n",
       "      <td>72.0</td>\n",
       "      <td>-2.0</td>\n",
       "      <td>1025.2</td>\n",
       "      <td>-19.5</td>\n",
       "      <td>0.0</td>\n",
       "      <td>N</td>\n",
       "      <td>2.0</td>\n",
       "      <td>Aotizhongxin</td>\n",
       "    </tr>\n",
       "  </tbody>\n",
       "</table>\n",
       "</div>"
      ],
      "text/plain": [
       "   No  year  month  day  hour  PM2.5  PM10   SO2   NO2     CO    O3  TEMP  \\\n",
       "0   1  2013      3    1     0    4.0   4.0   4.0   7.0  300.0  77.0  -0.7   \n",
       "1   2  2013      3    1     1    8.0   8.0   4.0   7.0  300.0  77.0  -1.1   \n",
       "2   3  2013      3    1     2    7.0   7.0   5.0  10.0  300.0  73.0  -1.1   \n",
       "3   4  2013      3    1     3    6.0   6.0  11.0  11.0  300.0  72.0  -1.4   \n",
       "4   5  2013      3    1     4    3.0   3.0  12.0  12.0  300.0  72.0  -2.0   \n",
       "\n",
       "     PRES  DEWP  RAIN   wd  WSPM       station  \n",
       "0  1023.0 -18.8   0.0  NNW   4.4  Aotizhongxin  \n",
       "1  1023.2 -18.2   0.0    N   4.7  Aotizhongxin  \n",
       "2  1023.5 -18.2   0.0  NNW   5.6  Aotizhongxin  \n",
       "3  1024.5 -19.4   0.0   NW   3.1  Aotizhongxin  \n",
       "4  1025.2 -19.5   0.0    N   2.0  Aotizhongxin  "
      ]
     },
     "execution_count": 4,
     "metadata": {},
     "output_type": "execute_result"
    }
   ],
   "source": [
    "#Mengecek isi datasheet PRSA_Data_Aotizhongxin_20130301-20170228.csv\n",
    "aotizhongxin_df.head()"
   ]
  },
  {
   "cell_type": "code",
   "execution_count": 5,
   "metadata": {},
   "outputs": [
    {
     "data": {
      "text/html": [
       "<div>\n",
       "<style scoped>\n",
       "    .dataframe tbody tr th:only-of-type {\n",
       "        vertical-align: middle;\n",
       "    }\n",
       "\n",
       "    .dataframe tbody tr th {\n",
       "        vertical-align: top;\n",
       "    }\n",
       "\n",
       "    .dataframe thead th {\n",
       "        text-align: right;\n",
       "    }\n",
       "</style>\n",
       "<table border=\"1\" class=\"dataframe\">\n",
       "  <thead>\n",
       "    <tr style=\"text-align: right;\">\n",
       "      <th></th>\n",
       "      <th>No</th>\n",
       "      <th>year</th>\n",
       "      <th>month</th>\n",
       "      <th>day</th>\n",
       "      <th>hour</th>\n",
       "      <th>PM2.5</th>\n",
       "      <th>PM10</th>\n",
       "      <th>SO2</th>\n",
       "      <th>NO2</th>\n",
       "      <th>CO</th>\n",
       "      <th>O3</th>\n",
       "      <th>TEMP</th>\n",
       "      <th>PRES</th>\n",
       "      <th>DEWP</th>\n",
       "      <th>RAIN</th>\n",
       "      <th>wd</th>\n",
       "      <th>WSPM</th>\n",
       "      <th>station</th>\n",
       "    </tr>\n",
       "  </thead>\n",
       "  <tbody>\n",
       "    <tr>\n",
       "      <th>0</th>\n",
       "      <td>1</td>\n",
       "      <td>2013</td>\n",
       "      <td>3</td>\n",
       "      <td>1</td>\n",
       "      <td>0</td>\n",
       "      <td>9.0</td>\n",
       "      <td>9.0</td>\n",
       "      <td>6.0</td>\n",
       "      <td>17.0</td>\n",
       "      <td>200.0</td>\n",
       "      <td>62.0</td>\n",
       "      <td>0.3</td>\n",
       "      <td>1021.9</td>\n",
       "      <td>-19.0</td>\n",
       "      <td>0.0</td>\n",
       "      <td>WNW</td>\n",
       "      <td>2.0</td>\n",
       "      <td>Wanshouxigong</td>\n",
       "    </tr>\n",
       "    <tr>\n",
       "      <th>1</th>\n",
       "      <td>2</td>\n",
       "      <td>2013</td>\n",
       "      <td>3</td>\n",
       "      <td>1</td>\n",
       "      <td>1</td>\n",
       "      <td>11.0</td>\n",
       "      <td>11.0</td>\n",
       "      <td>7.0</td>\n",
       "      <td>14.0</td>\n",
       "      <td>200.0</td>\n",
       "      <td>66.0</td>\n",
       "      <td>-0.1</td>\n",
       "      <td>1022.4</td>\n",
       "      <td>-19.3</td>\n",
       "      <td>0.0</td>\n",
       "      <td>WNW</td>\n",
       "      <td>4.4</td>\n",
       "      <td>Wanshouxigong</td>\n",
       "    </tr>\n",
       "    <tr>\n",
       "      <th>2</th>\n",
       "      <td>3</td>\n",
       "      <td>2013</td>\n",
       "      <td>3</td>\n",
       "      <td>1</td>\n",
       "      <td>2</td>\n",
       "      <td>8.0</td>\n",
       "      <td>8.0</td>\n",
       "      <td>NaN</td>\n",
       "      <td>16.0</td>\n",
       "      <td>200.0</td>\n",
       "      <td>59.0</td>\n",
       "      <td>-0.6</td>\n",
       "      <td>1022.6</td>\n",
       "      <td>-19.7</td>\n",
       "      <td>0.0</td>\n",
       "      <td>WNW</td>\n",
       "      <td>4.7</td>\n",
       "      <td>Wanshouxigong</td>\n",
       "    </tr>\n",
       "    <tr>\n",
       "      <th>3</th>\n",
       "      <td>4</td>\n",
       "      <td>2013</td>\n",
       "      <td>3</td>\n",
       "      <td>1</td>\n",
       "      <td>3</td>\n",
       "      <td>8.0</td>\n",
       "      <td>8.0</td>\n",
       "      <td>3.0</td>\n",
       "      <td>16.0</td>\n",
       "      <td>NaN</td>\n",
       "      <td>NaN</td>\n",
       "      <td>-0.7</td>\n",
       "      <td>1023.5</td>\n",
       "      <td>-20.9</td>\n",
       "      <td>0.0</td>\n",
       "      <td>NW</td>\n",
       "      <td>2.6</td>\n",
       "      <td>Wanshouxigong</td>\n",
       "    </tr>\n",
       "    <tr>\n",
       "      <th>4</th>\n",
       "      <td>5</td>\n",
       "      <td>2013</td>\n",
       "      <td>3</td>\n",
       "      <td>1</td>\n",
       "      <td>4</td>\n",
       "      <td>8.0</td>\n",
       "      <td>8.0</td>\n",
       "      <td>3.0</td>\n",
       "      <td>NaN</td>\n",
       "      <td>300.0</td>\n",
       "      <td>36.0</td>\n",
       "      <td>-0.9</td>\n",
       "      <td>1024.1</td>\n",
       "      <td>-21.7</td>\n",
       "      <td>0.0</td>\n",
       "      <td>WNW</td>\n",
       "      <td>2.5</td>\n",
       "      <td>Wanshouxigong</td>\n",
       "    </tr>\n",
       "  </tbody>\n",
       "</table>\n",
       "</div>"
      ],
      "text/plain": [
       "   No  year  month  day  hour  PM2.5  PM10  SO2   NO2     CO    O3  TEMP  \\\n",
       "0   1  2013      3    1     0    9.0   9.0  6.0  17.0  200.0  62.0   0.3   \n",
       "1   2  2013      3    1     1   11.0  11.0  7.0  14.0  200.0  66.0  -0.1   \n",
       "2   3  2013      3    1     2    8.0   8.0  NaN  16.0  200.0  59.0  -0.6   \n",
       "3   4  2013      3    1     3    8.0   8.0  3.0  16.0    NaN   NaN  -0.7   \n",
       "4   5  2013      3    1     4    8.0   8.0  3.0   NaN  300.0  36.0  -0.9   \n",
       "\n",
       "     PRES  DEWP  RAIN   wd  WSPM        station  \n",
       "0  1021.9 -19.0   0.0  WNW   2.0  Wanshouxigong  \n",
       "1  1022.4 -19.3   0.0  WNW   4.4  Wanshouxigong  \n",
       "2  1022.6 -19.7   0.0  WNW   4.7  Wanshouxigong  \n",
       "3  1023.5 -20.9   0.0   NW   2.6  Wanshouxigong  \n",
       "4  1024.1 -21.7   0.0  WNW   2.5  Wanshouxigong  "
      ]
     },
     "execution_count": 5,
     "metadata": {},
     "output_type": "execute_result"
    }
   ],
   "source": [
    "#Mengecek isi datasheet PRSA_Data_Wanshouxigong_20130301-20170228.csv\n",
    "wanshouxigong_df.head()"
   ]
  },
  {
   "cell_type": "code",
   "execution_count": 6,
   "metadata": {},
   "outputs": [
    {
     "name": "stdout",
     "output_type": "stream",
     "text": [
      "<class 'pandas.core.frame.DataFrame'>\n",
      "RangeIndex: 35064 entries, 0 to 35063\n",
      "Data columns (total 18 columns):\n",
      " #   Column   Non-Null Count  Dtype  \n",
      "---  ------   --------------  -----  \n",
      " 0   No       35064 non-null  int64  \n",
      " 1   year     35064 non-null  int64  \n",
      " 2   month    35064 non-null  int64  \n",
      " 3   day      35064 non-null  int64  \n",
      " 4   hour     35064 non-null  int64  \n",
      " 5   PM2.5    34139 non-null  float64\n",
      " 6   PM10     34346 non-null  float64\n",
      " 7   SO2      34129 non-null  float64\n",
      " 8   NO2      34041 non-null  float64\n",
      " 9   CO       33288 non-null  float64\n",
      " 10  O3       33345 non-null  float64\n",
      " 11  TEMP     35044 non-null  float64\n",
      " 12  PRES     35044 non-null  float64\n",
      " 13  DEWP     35044 non-null  float64\n",
      " 14  RAIN     35044 non-null  float64\n",
      " 15  wd       34983 non-null  object \n",
      " 16  WSPM     35050 non-null  float64\n",
      " 17  station  35064 non-null  object \n",
      "dtypes: float64(11), int64(5), object(2)\n",
      "memory usage: 4.8+ MB\n"
     ]
    }
   ],
   "source": [
    "#Memeriksa tipe data dari tiap kolom dataset PRSA_Data_Aotizhongxin_20130301-20170228.csv\n",
    "aotizhongxin_df.info()"
   ]
  },
  {
   "cell_type": "code",
   "execution_count": 7,
   "metadata": {},
   "outputs": [
    {
     "data": {
      "text/plain": [
       "No            0\n",
       "year          0\n",
       "month         0\n",
       "day           0\n",
       "hour          0\n",
       "PM2.5       925\n",
       "PM10        718\n",
       "SO2         935\n",
       "NO2        1023\n",
       "CO         1776\n",
       "O3         1719\n",
       "TEMP         20\n",
       "PRES         20\n",
       "DEWP         20\n",
       "RAIN         20\n",
       "wd           81\n",
       "WSPM         14\n",
       "station       0\n",
       "dtype: int64"
      ]
     },
     "execution_count": 7,
     "metadata": {},
     "output_type": "execute_result"
    }
   ],
   "source": [
    "#Menghitung jumlah nilai kosong dari dataset PRSA_Data_Aotizhongxin_20130301-20170228.csv\n",
    "aotizhongxin_df.isna().sum()"
   ]
  },
  {
   "cell_type": "code",
   "execution_count": 8,
   "metadata": {},
   "outputs": [
    {
     "data": {
      "text/html": [
       "<div>\n",
       "<style scoped>\n",
       "    .dataframe tbody tr th:only-of-type {\n",
       "        vertical-align: middle;\n",
       "    }\n",
       "\n",
       "    .dataframe tbody tr th {\n",
       "        vertical-align: top;\n",
       "    }\n",
       "\n",
       "    .dataframe thead th {\n",
       "        text-align: right;\n",
       "    }\n",
       "</style>\n",
       "<table border=\"1\" class=\"dataframe\">\n",
       "  <thead>\n",
       "    <tr style=\"text-align: right;\">\n",
       "      <th></th>\n",
       "      <th>No</th>\n",
       "      <th>year</th>\n",
       "      <th>month</th>\n",
       "      <th>day</th>\n",
       "      <th>hour</th>\n",
       "      <th>PM2.5</th>\n",
       "      <th>PM10</th>\n",
       "      <th>SO2</th>\n",
       "      <th>NO2</th>\n",
       "      <th>CO</th>\n",
       "      <th>O3</th>\n",
       "      <th>TEMP</th>\n",
       "      <th>PRES</th>\n",
       "      <th>DEWP</th>\n",
       "      <th>RAIN</th>\n",
       "      <th>WSPM</th>\n",
       "    </tr>\n",
       "  </thead>\n",
       "  <tbody>\n",
       "    <tr>\n",
       "      <th>count</th>\n",
       "      <td>35064.000000</td>\n",
       "      <td>35064.000000</td>\n",
       "      <td>35064.000000</td>\n",
       "      <td>35064.000000</td>\n",
       "      <td>35064.000000</td>\n",
       "      <td>34139.000000</td>\n",
       "      <td>34346.000000</td>\n",
       "      <td>34129.000000</td>\n",
       "      <td>34041.000000</td>\n",
       "      <td>33288.000000</td>\n",
       "      <td>33345.000000</td>\n",
       "      <td>35044.000000</td>\n",
       "      <td>35044.000000</td>\n",
       "      <td>35044.000000</td>\n",
       "      <td>35044.000000</td>\n",
       "      <td>35050.000000</td>\n",
       "    </tr>\n",
       "    <tr>\n",
       "      <th>mean</th>\n",
       "      <td>17532.500000</td>\n",
       "      <td>2014.662560</td>\n",
       "      <td>6.522930</td>\n",
       "      <td>15.729637</td>\n",
       "      <td>11.500000</td>\n",
       "      <td>82.773611</td>\n",
       "      <td>110.060391</td>\n",
       "      <td>17.375901</td>\n",
       "      <td>59.305833</td>\n",
       "      <td>1262.945145</td>\n",
       "      <td>56.353358</td>\n",
       "      <td>13.584607</td>\n",
       "      <td>1011.846920</td>\n",
       "      <td>3.123062</td>\n",
       "      <td>0.067421</td>\n",
       "      <td>1.708496</td>\n",
       "    </tr>\n",
       "    <tr>\n",
       "      <th>std</th>\n",
       "      <td>10122.249256</td>\n",
       "      <td>1.177213</td>\n",
       "      <td>3.448752</td>\n",
       "      <td>8.800218</td>\n",
       "      <td>6.922285</td>\n",
       "      <td>82.135694</td>\n",
       "      <td>95.223005</td>\n",
       "      <td>22.823017</td>\n",
       "      <td>37.116200</td>\n",
       "      <td>1221.436236</td>\n",
       "      <td>57.916327</td>\n",
       "      <td>11.399097</td>\n",
       "      <td>10.404047</td>\n",
       "      <td>13.688896</td>\n",
       "      <td>0.910056</td>\n",
       "      <td>1.204071</td>\n",
       "    </tr>\n",
       "    <tr>\n",
       "      <th>min</th>\n",
       "      <td>1.000000</td>\n",
       "      <td>2013.000000</td>\n",
       "      <td>1.000000</td>\n",
       "      <td>1.000000</td>\n",
       "      <td>0.000000</td>\n",
       "      <td>3.000000</td>\n",
       "      <td>2.000000</td>\n",
       "      <td>0.285600</td>\n",
       "      <td>2.000000</td>\n",
       "      <td>100.000000</td>\n",
       "      <td>0.214200</td>\n",
       "      <td>-16.800000</td>\n",
       "      <td>985.900000</td>\n",
       "      <td>-35.300000</td>\n",
       "      <td>0.000000</td>\n",
       "      <td>0.000000</td>\n",
       "    </tr>\n",
       "    <tr>\n",
       "      <th>25%</th>\n",
       "      <td>8766.750000</td>\n",
       "      <td>2014.000000</td>\n",
       "      <td>4.000000</td>\n",
       "      <td>8.000000</td>\n",
       "      <td>5.750000</td>\n",
       "      <td>22.000000</td>\n",
       "      <td>38.000000</td>\n",
       "      <td>3.000000</td>\n",
       "      <td>30.000000</td>\n",
       "      <td>500.000000</td>\n",
       "      <td>8.000000</td>\n",
       "      <td>3.100000</td>\n",
       "      <td>1003.300000</td>\n",
       "      <td>-8.100000</td>\n",
       "      <td>0.000000</td>\n",
       "      <td>0.900000</td>\n",
       "    </tr>\n",
       "    <tr>\n",
       "      <th>50%</th>\n",
       "      <td>17532.500000</td>\n",
       "      <td>2015.000000</td>\n",
       "      <td>7.000000</td>\n",
       "      <td>16.000000</td>\n",
       "      <td>11.500000</td>\n",
       "      <td>58.000000</td>\n",
       "      <td>87.000000</td>\n",
       "      <td>9.000000</td>\n",
       "      <td>53.000000</td>\n",
       "      <td>900.000000</td>\n",
       "      <td>42.000000</td>\n",
       "      <td>14.500000</td>\n",
       "      <td>1011.400000</td>\n",
       "      <td>3.800000</td>\n",
       "      <td>0.000000</td>\n",
       "      <td>1.400000</td>\n",
       "    </tr>\n",
       "    <tr>\n",
       "      <th>75%</th>\n",
       "      <td>26298.250000</td>\n",
       "      <td>2016.000000</td>\n",
       "      <td>10.000000</td>\n",
       "      <td>23.000000</td>\n",
       "      <td>17.250000</td>\n",
       "      <td>114.000000</td>\n",
       "      <td>155.000000</td>\n",
       "      <td>21.000000</td>\n",
       "      <td>82.000000</td>\n",
       "      <td>1500.000000</td>\n",
       "      <td>82.000000</td>\n",
       "      <td>23.300000</td>\n",
       "      <td>1020.100000</td>\n",
       "      <td>15.600000</td>\n",
       "      <td>0.000000</td>\n",
       "      <td>2.200000</td>\n",
       "    </tr>\n",
       "    <tr>\n",
       "      <th>max</th>\n",
       "      <td>35064.000000</td>\n",
       "      <td>2017.000000</td>\n",
       "      <td>12.000000</td>\n",
       "      <td>31.000000</td>\n",
       "      <td>23.000000</td>\n",
       "      <td>898.000000</td>\n",
       "      <td>984.000000</td>\n",
       "      <td>341.000000</td>\n",
       "      <td>290.000000</td>\n",
       "      <td>10000.000000</td>\n",
       "      <td>423.000000</td>\n",
       "      <td>40.500000</td>\n",
       "      <td>1042.000000</td>\n",
       "      <td>28.500000</td>\n",
       "      <td>72.500000</td>\n",
       "      <td>11.200000</td>\n",
       "    </tr>\n",
       "  </tbody>\n",
       "</table>\n",
       "</div>"
      ],
      "text/plain": [
       "                 No          year         month           day          hour  \\\n",
       "count  35064.000000  35064.000000  35064.000000  35064.000000  35064.000000   \n",
       "mean   17532.500000   2014.662560      6.522930     15.729637     11.500000   \n",
       "std    10122.249256      1.177213      3.448752      8.800218      6.922285   \n",
       "min        1.000000   2013.000000      1.000000      1.000000      0.000000   \n",
       "25%     8766.750000   2014.000000      4.000000      8.000000      5.750000   \n",
       "50%    17532.500000   2015.000000      7.000000     16.000000     11.500000   \n",
       "75%    26298.250000   2016.000000     10.000000     23.000000     17.250000   \n",
       "max    35064.000000   2017.000000     12.000000     31.000000     23.000000   \n",
       "\n",
       "              PM2.5          PM10           SO2           NO2            CO  \\\n",
       "count  34139.000000  34346.000000  34129.000000  34041.000000  33288.000000   \n",
       "mean      82.773611    110.060391     17.375901     59.305833   1262.945145   \n",
       "std       82.135694     95.223005     22.823017     37.116200   1221.436236   \n",
       "min        3.000000      2.000000      0.285600      2.000000    100.000000   \n",
       "25%       22.000000     38.000000      3.000000     30.000000    500.000000   \n",
       "50%       58.000000     87.000000      9.000000     53.000000    900.000000   \n",
       "75%      114.000000    155.000000     21.000000     82.000000   1500.000000   \n",
       "max      898.000000    984.000000    341.000000    290.000000  10000.000000   \n",
       "\n",
       "                 O3          TEMP          PRES          DEWP          RAIN  \\\n",
       "count  33345.000000  35044.000000  35044.000000  35044.000000  35044.000000   \n",
       "mean      56.353358     13.584607   1011.846920      3.123062      0.067421   \n",
       "std       57.916327     11.399097     10.404047     13.688896      0.910056   \n",
       "min        0.214200    -16.800000    985.900000    -35.300000      0.000000   \n",
       "25%        8.000000      3.100000   1003.300000     -8.100000      0.000000   \n",
       "50%       42.000000     14.500000   1011.400000      3.800000      0.000000   \n",
       "75%       82.000000     23.300000   1020.100000     15.600000      0.000000   \n",
       "max      423.000000     40.500000   1042.000000     28.500000     72.500000   \n",
       "\n",
       "               WSPM  \n",
       "count  35050.000000  \n",
       "mean       1.708496  \n",
       "std        1.204071  \n",
       "min        0.000000  \n",
       "25%        0.900000  \n",
       "50%        1.400000  \n",
       "75%        2.200000  \n",
       "max       11.200000  "
      ]
     },
     "execution_count": 8,
     "metadata": {},
     "output_type": "execute_result"
    }
   ],
   "source": [
    "#Memeriksa parameter statistik dari dataset PRSA_Data_Aotizhongxin_20130301-20170228.csv\n",
    "aotizhongxin_df.describe()"
   ]
  },
  {
   "cell_type": "code",
   "execution_count": 9,
   "metadata": {},
   "outputs": [
    {
     "data": {
      "text/plain": [
       "0"
      ]
     },
     "execution_count": 9,
     "metadata": {},
     "output_type": "execute_result"
    }
   ],
   "source": [
    "#Menghitung jumlah duplikasi data dari dataset PRSA_Data_Aotizhongxin_20130301-20170228.csv\n",
    "aotizhongxin_df.duplicated().sum()"
   ]
  },
  {
   "cell_type": "code",
   "execution_count": 10,
   "metadata": {},
   "outputs": [
    {
     "name": "stdout",
     "output_type": "stream",
     "text": [
      "<class 'pandas.core.frame.DataFrame'>\n",
      "RangeIndex: 35064 entries, 0 to 35063\n",
      "Data columns (total 18 columns):\n",
      " #   Column   Non-Null Count  Dtype  \n",
      "---  ------   --------------  -----  \n",
      " 0   No       35064 non-null  int64  \n",
      " 1   year     35064 non-null  int64  \n",
      " 2   month    35064 non-null  int64  \n",
      " 3   day      35064 non-null  int64  \n",
      " 4   hour     35064 non-null  int64  \n",
      " 5   PM2.5    34368 non-null  float64\n",
      " 6   PM10     34580 non-null  float64\n",
      " 7   SO2      34395 non-null  float64\n",
      " 8   NO2      34310 non-null  float64\n",
      " 9   CO       33767 non-null  float64\n",
      " 10  O3       33986 non-null  float64\n",
      " 11  TEMP     35045 non-null  float64\n",
      " 12  PRES     35045 non-null  float64\n",
      " 13  DEWP     35045 non-null  float64\n",
      " 14  RAIN     35045 non-null  float64\n",
      " 15  wd       34985 non-null  object \n",
      " 16  WSPM     35051 non-null  float64\n",
      " 17  station  35064 non-null  object \n",
      "dtypes: float64(11), int64(5), object(2)\n",
      "memory usage: 4.8+ MB\n"
     ]
    }
   ],
   "source": [
    "#Memeriksa tipe data dari tiap kolom dataset PRSA_Data_Wanshouxigong_20130301-20170228.csv\n",
    "wanshouxigong_df.info()"
   ]
  },
  {
   "cell_type": "code",
   "execution_count": 11,
   "metadata": {},
   "outputs": [
    {
     "data": {
      "text/plain": [
       "No            0\n",
       "year          0\n",
       "month         0\n",
       "day           0\n",
       "hour          0\n",
       "PM2.5       696\n",
       "PM10        484\n",
       "SO2         669\n",
       "NO2         754\n",
       "CO         1297\n",
       "O3         1078\n",
       "TEMP         19\n",
       "PRES         19\n",
       "DEWP         19\n",
       "RAIN         19\n",
       "wd           79\n",
       "WSPM         13\n",
       "station       0\n",
       "dtype: int64"
      ]
     },
     "execution_count": 11,
     "metadata": {},
     "output_type": "execute_result"
    }
   ],
   "source": [
    "#Menghitung jumlah nilai kosong dari dataset PRSA_Data_Wanshouxigong_20130301-20170228.csv\n",
    "wanshouxigong_df.isna().sum() "
   ]
  },
  {
   "cell_type": "code",
   "execution_count": 12,
   "metadata": {},
   "outputs": [
    {
     "data": {
      "text/plain": [
       "0"
      ]
     },
     "execution_count": 12,
     "metadata": {},
     "output_type": "execute_result"
    }
   ],
   "source": [
    "#Menghitung jumlah duplikasi data dari dataset PRSA_Data_Wanshouxigong_20130301-20170228.csv\n",
    "wanshouxigong_df.duplicated().sum()"
   ]
  },
  {
   "cell_type": "code",
   "execution_count": 13,
   "metadata": {},
   "outputs": [
    {
     "name": "stdout",
     "output_type": "stream",
     "text": [
      "<class 'pandas.core.frame.DataFrame'>\n",
      "RangeIndex: 35064 entries, 0 to 35063\n",
      "Data columns (total 18 columns):\n",
      " #   Column   Non-Null Count  Dtype  \n",
      "---  ------   --------------  -----  \n",
      " 0   No       35064 non-null  int64  \n",
      " 1   year     35064 non-null  int64  \n",
      " 2   month    35064 non-null  int64  \n",
      " 3   day      35064 non-null  int64  \n",
      " 4   hour     35064 non-null  int64  \n",
      " 5   PM2.5    34368 non-null  float64\n",
      " 6   PM10     34580 non-null  float64\n",
      " 7   SO2      34395 non-null  float64\n",
      " 8   NO2      34310 non-null  float64\n",
      " 9   CO       33767 non-null  float64\n",
      " 10  O3       33986 non-null  float64\n",
      " 11  TEMP     35045 non-null  float64\n",
      " 12  PRES     35045 non-null  float64\n",
      " 13  DEWP     35045 non-null  float64\n",
      " 14  RAIN     35045 non-null  float64\n",
      " 15  wd       34985 non-null  object \n",
      " 16  WSPM     35051 non-null  float64\n",
      " 17  station  35064 non-null  object \n",
      "dtypes: float64(11), int64(5), object(2)\n",
      "memory usage: 4.8+ MB\n"
     ]
    }
   ],
   "source": [
    "#Memeriksa tipe data dari tiap kolom dataset PRSA_Data_Wanshouxigong_20130301-20170228.csv\n",
    "wanshouxigong_df.info()"
   ]
  },
  {
   "cell_type": "markdown",
   "metadata": {},
   "source": [
    "### Cleaning Data"
   ]
  },
  {
   "cell_type": "code",
   "execution_count": 14,
   "metadata": {},
   "outputs": [],
   "source": [
    "#Menangani missing value dari kolom PM10 dataset PRSA_Data_Aotizhongxin_20130301-20170228.csv\n",
    "aotizhongxin_df[aotizhongxin_df.PM10.isna()]\n",
    "\n",
    "#Mengisi missing value dari kolom PM10 dataset PRSA_Data_Aotizhongxin_20130301-20170228.csv dengan metode interpolasi linear\n",
    "aotizhongxin_df.PM10.interpolate(method='linear', limit_direction='forward', inplace=True)"
   ]
  },
  {
   "cell_type": "code",
   "execution_count": 15,
   "metadata": {},
   "outputs": [],
   "source": [
    "#Menangani missing value dari kolom SO2 dataset PRSA_Data_Aotizhongxin_20130301-20170228.csv\n",
    "aotizhongxin_df[aotizhongxin_df.SO2.isna()]\n",
    "\n",
    "#Mengisi missing value dari kolom SO2 dataset PRSA_Data_Aotizhongxin_20130301-20170228.csv dengan metode interpolasi linear\n",
    "aotizhongxin_df.SO2.interpolate(method='linear', limit_direction='forward', inplace=True)"
   ]
  },
  {
   "cell_type": "code",
   "execution_count": 16,
   "metadata": {},
   "outputs": [],
   "source": [
    "#Menangani missing value dari kolom NO2 dataset PRSA_Data_Aotizhongxin_20130301-20170228.csv\n",
    "aotizhongxin_df[aotizhongxin_df.NO2.isna()]\n",
    "\n",
    "#Mengisi missing value dari kolom NO2 dataset PRSA_Data_Aotizhongxin_20130301-20170228.csv dengan metode interpolasi linear\n",
    "aotizhongxin_df.NO2.interpolate(method='linear', limit_direction='forward', inplace=True)"
   ]
  },
  {
   "cell_type": "code",
   "execution_count": 17,
   "metadata": {},
   "outputs": [],
   "source": [
    "#Menangani missing value dari kolom CO dataset PRSA_Data_Aotizhongxin_20130301-20170228.csv\n",
    "aotizhongxin_df[aotizhongxin_df.CO.isna()]\n",
    "\n",
    "#Mengisi missing value dari kolom CO dataset PRSA_Data_Aotizhongxin_20130301-20170228.csv dengan metode interpolasi linear\n",
    "aotizhongxin_df.CO.interpolate(method='linear', limit_direction='forward', inplace=True)"
   ]
  },
  {
   "cell_type": "code",
   "execution_count": 18,
   "metadata": {},
   "outputs": [],
   "source": [
    "#Menangani missing value dari kolom O3 dataset PRSA_Data_Aotizhongxin_20130301-20170228.csv\n",
    "aotizhongxin_df[aotizhongxin_df.O3.isna()]\n",
    "\n",
    "#Mengisi missing value dari kolom O3 dataset PRSA_Data_Aotizhongxin_20130301-20170228.csv dengan metode interpolasi linear\n",
    "aotizhongxin_df.O3.interpolate(method='linear', limit_direction='forward', inplace=True)"
   ]
  },
  {
   "cell_type": "code",
   "execution_count": 19,
   "metadata": {},
   "outputs": [],
   "source": [
    "#Menangani missing value dari kolom PM2.5 dataset PRSA_Data_Aotizhongxin_20130301-20170228.csv\n",
    "aotizhongxin_df[aotizhongxin_df['PM2.5'].isna()]\n",
    "\n",
    "#Mengisi missing value dari kolom PM2.5 dataset PRSA_Data_Aotizhongxin_20130301-20170228.csv dengan metode interpolasi linear\n",
    "aotizhongxin_df['PM2.5'].interpolate(method='linear', limit_direction='forward', inplace=True)"
   ]
  },
  {
   "cell_type": "code",
   "execution_count": 20,
   "metadata": {},
   "outputs": [],
   "source": [
    "#Menangani missing value dari kolom PM10 dataset PRSA_Data_Wanshouxigong_20130301-20170228.csv\n",
    "wanshouxigong_df[wanshouxigong_df.PM10.isna()]\n",
    "\n",
    "#Mengisi missing value dari kolom PM10 dataset PRSA_Data_Wanshouxigong_20130301-20170228.csv dengan metode interpolasi linear\n",
    "wanshouxigong_df.PM10.interpolate(method='linear', limit_direction='forward', inplace=True)"
   ]
  },
  {
   "cell_type": "code",
   "execution_count": 21,
   "metadata": {},
   "outputs": [],
   "source": [
    "#Menangani missing value dari kolom SO2 dataset PRSA_Data_Wanshouxigong_20130301-20170228.csv\n",
    "wanshouxigong_df[wanshouxigong_df.SO2.isna()]\n",
    "\n",
    "#Mengisi missing value dari kolom SO2 dataset PRSA_Data_Wanshouxigong_20130301-20170228.csv dengan metode interpolasi linear\n",
    "wanshouxigong_df.SO2.interpolate(method='linear', limit_direction='forward', inplace=True)"
   ]
  },
  {
   "cell_type": "code",
   "execution_count": 22,
   "metadata": {},
   "outputs": [],
   "source": [
    "#Menangani missing value dari kolom NO2 dataset PRSA_Data_Wanshouxigong_20130301-20170228.csv\n",
    "wanshouxigong_df[wanshouxigong_df.NO2.isna()]\n",
    "\n",
    "#Mengisi missing value dari kolom NO2 dataset PRSA_Data_Wanshouxigong_20130301-20170228.csv dengan metode interpolasi linear\n",
    "wanshouxigong_df.NO2.interpolate(method='linear', limit_direction='forward', inplace=True)"
   ]
  },
  {
   "cell_type": "code",
   "execution_count": 23,
   "metadata": {},
   "outputs": [],
   "source": [
    "#Menangani missing value dari kolom CO dataset PRSA_Data_Wanshouxigong_20130301-20170228.csv\n",
    "wanshouxigong_df[wanshouxigong_df.CO.isna()]\n",
    "\n",
    "#Mengisi missing value dari kolom CO dataset PRSA_Data_Wanshouxigong_20130301-20170228.csv dengan metode interpolasi linear\n",
    "wanshouxigong_df.CO.interpolate(method='linear', limit_direction='forward', inplace=True)"
   ]
  },
  {
   "cell_type": "code",
   "execution_count": 24,
   "metadata": {},
   "outputs": [],
   "source": [
    "#Menangani missing value dari kolom O3 dataset PRSA_Data_Wanshouxigong_20130301-20170228.csv\n",
    "wanshouxigong_df[wanshouxigong_df.O3.isna()]\n",
    "\n",
    "#Mengisi missing value dari kolom O3 dataset PRSA_Data_Wanshouxigong_20130301-20170228.csv dengan metode interpolasi linear\n",
    "wanshouxigong_df.O3.interpolate(method='linear', limit_direction='forward', inplace=True)"
   ]
  },
  {
   "cell_type": "code",
   "execution_count": 25,
   "metadata": {},
   "outputs": [],
   "source": [
    "#Menangani missing value dari kolom PM2.5 dataset PRSA_Data_Wanshouxigong_20130301-20170228.csv\n",
    "wanshouxigong_df[wanshouxigong_df['PM2.5'].isna()]\n",
    "\n",
    "#Mengisi missing value dari kolom PM2.5 dataset PRSA_Data_Wanshouxigong_20130301-20170228.csv dengan metode interpolasi linear\n",
    "wanshouxigong_df['PM2.5'].interpolate(method='linear', limit_direction='forward', inplace=True)"
   ]
  },
  {
   "cell_type": "markdown",
   "metadata": {},
   "source": [
    "## Exploratory Data Analysis (EDA)"
   ]
  },
  {
   "cell_type": "markdown",
   "metadata": {},
   "source": [
    "### Explore ..."
   ]
  },
  {
   "cell_type": "code",
   "execution_count": 26,
   "metadata": {},
   "outputs": [],
   "source": [
    "#Membuat kolom tanggal pada dataset PRSA_Data_Aotizhongxin_20130301-20170228.csv\n",
    "date = pd.DataFrame({\n",
    "    'year': aotizhongxin_df['year'],\n",
    "    'month': aotizhongxin_df['month'],\n",
    "    'day': aotizhongxin_df['day'],\n",
    "})\n",
    "\n",
    "aotizhongxin_df['date'] = pd.to_datetime(date)"
   ]
  },
  {
   "cell_type": "code",
   "execution_count": 27,
   "metadata": {},
   "outputs": [],
   "source": [
    "#Set kolom date sebagai index\n",
    "aotizhongxin_df.set_index('date', inplace=True)\n",
    "\n",
    "#Membuat dataframe yearly_aotizhongxin_df\n",
    "yearly_aotizhongxin_df = aotizhongxin_df.resample(rule='Y').agg({\n",
    "    \"PM2.5\": \"mean\",\n",
    "    \"PM10\": \"mean\",\n",
    "    \"SO2\": \"mean\",\n",
    "    \"NO2\": \"mean\",\n",
    "    \"CO\": \"mean\",\n",
    "    \"O3\": \"mean\"\n",
    "})\n",
    "\n",
    "#Mengonversi satuan date menjadi tahun\n",
    "yearly_aotizhongxin_df.index = yearly_aotizhongxin_df.index.strftime('%Y')\n",
    "\n",
    "#Reset index dataframe yearly_aotizhongxin_df\n",
    "yearly_aotizhongxin_df = yearly_aotizhongxin_df.reset_index()\n",
    "\n",
    "#Mengganti nama kolom date menjadi year\n",
    "yearly_aotizhongxin_df.rename(columns={\n",
    "    \"date\": \"year\"\n",
    "}, inplace=True)"
   ]
  },
  {
   "cell_type": "code",
   "execution_count": 28,
   "metadata": {},
   "outputs": [
    {
     "data": {
      "text/html": [
       "<div>\n",
       "<style scoped>\n",
       "    .dataframe tbody tr th:only-of-type {\n",
       "        vertical-align: middle;\n",
       "    }\n",
       "\n",
       "    .dataframe tbody tr th {\n",
       "        vertical-align: top;\n",
       "    }\n",
       "\n",
       "    .dataframe thead th {\n",
       "        text-align: right;\n",
       "    }\n",
       "</style>\n",
       "<table border=\"1\" class=\"dataframe\">\n",
       "  <thead>\n",
       "    <tr style=\"text-align: right;\">\n",
       "      <th></th>\n",
       "      <th>year</th>\n",
       "      <th>PM2.5</th>\n",
       "      <th>PM10</th>\n",
       "      <th>SO2</th>\n",
       "      <th>NO2</th>\n",
       "      <th>CO</th>\n",
       "      <th>O3</th>\n",
       "    </tr>\n",
       "  </thead>\n",
       "  <tbody>\n",
       "    <tr>\n",
       "      <th>0</th>\n",
       "      <td>2013</td>\n",
       "      <td>82.439202</td>\n",
       "      <td>112.940836</td>\n",
       "      <td>23.599799</td>\n",
       "      <td>63.355500</td>\n",
       "      <td>1163.919458</td>\n",
       "      <td>47.206555</td>\n",
       "    </tr>\n",
       "    <tr>\n",
       "      <th>1</th>\n",
       "      <td>2014</td>\n",
       "      <td>89.747603</td>\n",
       "      <td>122.282112</td>\n",
       "      <td>21.515582</td>\n",
       "      <td>63.164053</td>\n",
       "      <td>1186.718037</td>\n",
       "      <td>48.594041</td>\n",
       "    </tr>\n",
       "    <tr>\n",
       "      <th>2</th>\n",
       "      <td>2015</td>\n",
       "      <td>81.831724</td>\n",
       "      <td>112.176747</td>\n",
       "      <td>14.354195</td>\n",
       "      <td>60.939047</td>\n",
       "      <td>1436.889269</td>\n",
       "      <td>63.604132</td>\n",
       "    </tr>\n",
       "    <tr>\n",
       "      <th>3</th>\n",
       "      <td>2016</td>\n",
       "      <td>74.236680</td>\n",
       "      <td>94.445811</td>\n",
       "      <td>10.833732</td>\n",
       "      <td>48.402493</td>\n",
       "      <td>1190.215164</td>\n",
       "      <td>61.854793</td>\n",
       "    </tr>\n",
       "    <tr>\n",
       "      <th>4</th>\n",
       "      <td>2017</td>\n",
       "      <td>94.379237</td>\n",
       "      <td>106.988347</td>\n",
       "      <td>20.827331</td>\n",
       "      <td>66.229520</td>\n",
       "      <td>1666.454802</td>\n",
       "      <td>47.436088</td>\n",
       "    </tr>\n",
       "  </tbody>\n",
       "</table>\n",
       "</div>"
      ],
      "text/plain": [
       "   year      PM2.5        PM10        SO2        NO2           CO         O3\n",
       "0  2013  82.439202  112.940836  23.599799  63.355500  1163.919458  47.206555\n",
       "1  2014  89.747603  122.282112  21.515582  63.164053  1186.718037  48.594041\n",
       "2  2015  81.831724  112.176747  14.354195  60.939047  1436.889269  63.604132\n",
       "3  2016  74.236680   94.445811  10.833732  48.402493  1190.215164  61.854793\n",
       "4  2017  94.379237  106.988347  20.827331  66.229520  1666.454802  47.436088"
      ]
     },
     "execution_count": 28,
     "metadata": {},
     "output_type": "execute_result"
    }
   ],
   "source": [
    "#Menampilkan rataan tahunan kadar PM2.5, PM10, SO2, NO2, CO2 dan O3 dari dataset PRSA_Data_Aotizhongxin_20130301-20170228.csv\n",
    "yearly_aotizhongxin_df"
   ]
  },
  {
   "cell_type": "code",
   "execution_count": 29,
   "metadata": {},
   "outputs": [],
   "source": [
    "#Membuat kolom tanggal pada dataset PRSA_Data_Wanshouxigong_20130301-20170228.csv\n",
    "date = pd.DataFrame({\n",
    "    'year': wanshouxigong_df['year'],\n",
    "    'month': wanshouxigong_df['month'],\n",
    "    'day': wanshouxigong_df['day'],\n",
    "})\n",
    "\n",
    "wanshouxigong_df['date'] = pd.to_datetime(date)"
   ]
  },
  {
   "cell_type": "code",
   "execution_count": 30,
   "metadata": {},
   "outputs": [],
   "source": [
    "#Set kolom date sebagai index\n",
    "wanshouxigong_df.set_index('date', inplace=True)\n",
    "\n",
    "#Membuat dataframe yearly_aotizhongxin_df\n",
    "yearly_wanshouxigong_df = wanshouxigong_df.resample(rule='Y').agg({\n",
    "    \"PM2.5\": \"mean\",\n",
    "    \"PM10\": \"mean\",\n",
    "    \"SO2\": \"mean\",\n",
    "    \"NO2\": \"mean\",\n",
    "    \"CO\": \"mean\",\n",
    "    \"O3\": \"mean\"\n",
    "})\n",
    "\n",
    "#Mengonversi satuan date menjadi tahun\n",
    "yearly_wanshouxigong_df.index = yearly_wanshouxigong_df.index.strftime('%Y')\n",
    "\n",
    "#Reset index data yearly_aotizhongxin_df\n",
    "yearly_wanshouxigong_df = yearly_wanshouxigong_df.reset_index()\n",
    "\n",
    "#Mengganti nama kolom date menjadi year\n",
    "yearly_wanshouxigong_df.rename(columns={\n",
    "    \"date\": \"year\"\n",
    "}, inplace=True)"
   ]
  },
  {
   "cell_type": "code",
   "execution_count": 31,
   "metadata": {},
   "outputs": [
    {
     "data": {
      "text/html": [
       "<div>\n",
       "<style scoped>\n",
       "    .dataframe tbody tr th:only-of-type {\n",
       "        vertical-align: middle;\n",
       "    }\n",
       "\n",
       "    .dataframe tbody tr th {\n",
       "        vertical-align: top;\n",
       "    }\n",
       "\n",
       "    .dataframe thead th {\n",
       "        text-align: right;\n",
       "    }\n",
       "</style>\n",
       "<table border=\"1\" class=\"dataframe\">\n",
       "  <thead>\n",
       "    <tr style=\"text-align: right;\">\n",
       "      <th></th>\n",
       "      <th>year</th>\n",
       "      <th>PM2.5</th>\n",
       "      <th>PM10</th>\n",
       "      <th>SO2</th>\n",
       "      <th>NO2</th>\n",
       "      <th>CO</th>\n",
       "      <th>O3</th>\n",
       "    </tr>\n",
       "  </thead>\n",
       "  <tbody>\n",
       "    <tr>\n",
       "      <th>0</th>\n",
       "      <td>2013</td>\n",
       "      <td>83.784586</td>\n",
       "      <td>111.195057</td>\n",
       "      <td>21.781023</td>\n",
       "      <td>55.950066</td>\n",
       "      <td>1411.235226</td>\n",
       "      <td>52.658367</td>\n",
       "    </tr>\n",
       "    <tr>\n",
       "      <th>1</th>\n",
       "      <td>2014</td>\n",
       "      <td>90.482100</td>\n",
       "      <td>127.157100</td>\n",
       "      <td>23.190183</td>\n",
       "      <td>61.797568</td>\n",
       "      <td>1442.260274</td>\n",
       "      <td>56.443813</td>\n",
       "    </tr>\n",
       "    <tr>\n",
       "      <th>2</th>\n",
       "      <td>2015</td>\n",
       "      <td>84.276233</td>\n",
       "      <td>111.198973</td>\n",
       "      <td>14.384966</td>\n",
       "      <td>52.729372</td>\n",
       "      <td>1364.229452</td>\n",
       "      <td>59.251575</td>\n",
       "    </tr>\n",
       "    <tr>\n",
       "      <th>3</th>\n",
       "      <td>2016</td>\n",
       "      <td>78.112933</td>\n",
       "      <td>98.815289</td>\n",
       "      <td>10.635474</td>\n",
       "      <td>50.183117</td>\n",
       "      <td>1224.077869</td>\n",
       "      <td>58.318420</td>\n",
       "    </tr>\n",
       "    <tr>\n",
       "      <th>4</th>\n",
       "      <td>2017</td>\n",
       "      <td>106.262359</td>\n",
       "      <td>121.676554</td>\n",
       "      <td>18.565325</td>\n",
       "      <td>64.215395</td>\n",
       "      <td>1739.618644</td>\n",
       "      <td>34.106285</td>\n",
       "    </tr>\n",
       "  </tbody>\n",
       "</table>\n",
       "</div>"
      ],
      "text/plain": [
       "   year       PM2.5        PM10        SO2        NO2           CO         O3\n",
       "0  2013   83.784586  111.195057  21.781023  55.950066  1411.235226  52.658367\n",
       "1  2014   90.482100  127.157100  23.190183  61.797568  1442.260274  56.443813\n",
       "2  2015   84.276233  111.198973  14.384966  52.729372  1364.229452  59.251575\n",
       "3  2016   78.112933   98.815289  10.635474  50.183117  1224.077869  58.318420\n",
       "4  2017  106.262359  121.676554  18.565325  64.215395  1739.618644  34.106285"
      ]
     },
     "execution_count": 31,
     "metadata": {},
     "output_type": "execute_result"
    }
   ],
   "source": [
    "#Menampilkan rataan tahunan kadar PM2.5, PM10, SO2, NO2, CO2 dan O3 dari dataset PRSA_Data_Wanshouxigong_20130301-20170228.csv\n",
    "yearly_wanshouxigong_df"
   ]
  },
  {
   "cell_type": "code",
   "execution_count": 32,
   "metadata": {},
   "outputs": [],
   "source": [
    "#Menyimpan dataset kadar PM2.5, PM10, SO2, NO2, CO dan O3 di Aotizhongxin yang sudah dibersihkan untuk digunakan di streamlit\n",
    "#Membuat dataframe daily_aotizhongxin_df\n",
    "daily_aotizhongxin_df = aotizhongxin_df.resample(rule='D').agg({\n",
    "    \"PM2.5\": \"mean\",\n",
    "    \"PM10\": \"mean\",\n",
    "    \"SO2\": \"mean\",\n",
    "    \"NO2\": \"mean\",\n",
    "    \"CO\": \"mean\",\n",
    "    \"O3\": \"mean\"\n",
    "})\n",
    "\n",
    "#Reset index dataframe daily_aotizhongxin_df\n",
    "daily_aotizhongxin_df = daily_aotizhongxin_df.reset_index()"
   ]
  },
  {
   "cell_type": "code",
   "execution_count": 34,
   "metadata": {},
   "outputs": [],
   "source": [
    "#Menyimpan dataset yang sudah dibersihkan ke dalam folder data\n",
    "path = \"./data/aotizhongxin.csv\"\n",
    "daily_aotizhongxin_df.to_csv(path)"
   ]
  },
  {
   "cell_type": "markdown",
   "metadata": {},
   "source": [
    "## Visualization & Explanatory Analysis"
   ]
  },
  {
   "cell_type": "markdown",
   "metadata": {},
   "source": [
    "### Pertanyaan 1: "
   ]
  },
  {
   "cell_type": "code",
   "execution_count": 35,
   "metadata": {},
   "outputs": [
    {
     "data": {
      "image/png": "[encoded data removed]",
      "text/plain": [
       "<Figure size 640x480 with 6 Axes>"
      ]
     },
     "metadata": {},
     "output_type": "display_data"
    }
   ],
   "source": [
    "#Visualisasi data rataan tahunan kadar PM2.5, PM10, SO2, NO2, CO dan O3 di Aotizhongxin\n",
    "fig, axs = plt.subplots(3, 2)\n",
    "axs[0, 0].plot(yearly_aotizhongxin_df[\"year\"], yearly_aotizhongxin_df[\"PM2.5\"], marker='o', linewidth=2, color=\"#72BCD4\")\n",
    "axs[0, 0].set_title(\"Kadar rataan PM2.5 Aotizhongxin\")\n",
    "axs[1, 0].plot(yearly_aotizhongxin_df[\"year\"], yearly_aotizhongxin_df[\"PM10\"], marker='o', linewidth=2, color=\"#72BCD4\")\n",
    "axs[1, 0].set_title(\"Kadar rataan PM10 Aotizhongxin\")\n",
    "axs[2, 0].plot(yearly_aotizhongxin_df[\"year\"], yearly_aotizhongxin_df[\"SO2\"], marker='o', linewidth=2, color=\"#72BCD4\")\n",
    "axs[2, 0].set_title(\"Kadar rataan SO2 Aotizhongxin\")\n",
    "axs[2, 0].sharex(axs[0, 0])\n",
    "axs[0, 1].plot(yearly_aotizhongxin_df[\"year\"], yearly_aotizhongxin_df[\"NO2\"], marker='o', linewidth=2, color=\"#72BCD4\")\n",
    "axs[0, 1].set_title(\"Kadar rataan NO2 Aotizhongxin\")\n",
    "axs[1, 1].plot(yearly_aotizhongxin_df[\"year\"], yearly_aotizhongxin_df[\"CO\"], marker='o', linewidth=2, color=\"#72BCD4\")\n",
    "axs[1, 1].set_title(\"Kadar rataan CO Aotizhongxin\")\n",
    "axs[2, 1].plot(yearly_aotizhongxin_df[\"year\"], yearly_aotizhongxin_df[\"O3\"], marker='o', linewidth=2, color=\"#72BCD4\")\n",
    "axs[2, 1].set_title(\"Kadar rataan O3 Aotizhongxin\")\n",
    "fig.tight_layout()"
   ]
  },
  {
   "cell_type": "markdown",
   "metadata": {},
   "source": [
    "### Pertanyaan 2: "
   ]
  },
  {
   "cell_type": "code",
   "execution_count": 36,
   "metadata": {},
   "outputs": [
    {
     "data": {
      "image/png": "[encoded data removed]",
      "text/plain": [
       "<Figure size 640x480 with 6 Axes>"
      ]
     },
     "metadata": {},
     "output_type": "display_data"
    }
   ],
   "source": [
    "#Visualisasi data rataan tahunan kadar PM2.5, PM10, SO2, NO2, CO dan O3 di Wanshouxigong\n",
    "fig, axs = plt.subplots(3, 2)\n",
    "axs[0, 0].plot(yearly_wanshouxigong_df[\"year\"], yearly_wanshouxigong_df[\"PM2.5\"], marker='o', linewidth=2, color=\"#72BCD4\")\n",
    "axs[0, 0].set_title(\"Kadar rataan PM2.5 Wanshouxigong\")\n",
    "axs[1, 0].plot(yearly_wanshouxigong_df[\"year\"], yearly_wanshouxigong_df[\"PM10\"], marker='o', linewidth=2, color=\"#72BCD4\")\n",
    "axs[1, 0].set_title(\"Kadar rataan PM10 Wanshouxigong\")\n",
    "axs[2, 0].plot(yearly_wanshouxigong_df[\"year\"], yearly_wanshouxigong_df[\"SO2\"], marker='o', linewidth=2, color=\"#72BCD4\")\n",
    "axs[2, 0].set_title(\"Kadar rataan SO2 Wanshouxigong\")\n",
    "axs[2, 0].sharex(axs[0, 0])\n",
    "axs[0, 1].plot(yearly_wanshouxigong_df[\"year\"], yearly_wanshouxigong_df[\"NO2\"], marker='o', linewidth=2, color=\"#72BCD4\")\n",
    "axs[0, 1].set_title(\"Kadar rataan NO2 Wanshouxigong\")\n",
    "axs[1, 1].plot(yearly_wanshouxigong_df[\"year\"], yearly_wanshouxigong_df[\"CO\"], marker='o', linewidth=2, color=\"#72BCD4\")\n",
    "axs[1, 1].set_title(\"Kadar rataan CO Wanshouxigong\")\n",
    "axs[2, 1].plot(yearly_wanshouxigong_df[\"year\"], yearly_wanshouxigong_df[\"O3\"], marker='o', linewidth=2, color=\"#72BCD4\")\n",
    "axs[2, 1].set_title(\"Kadar rataan O3 Wanshouxigong\")\n",
    "fig.tight_layout()"
   ]
  },
  {
   "cell_type": "markdown",
   "metadata": {},
   "source": [
    "## Conclusion"
   ]
  },
  {
   "cell_type": "markdown",
   "metadata": {},
   "source": [
    "- Aotizhongxin\n",
    "Kadar maksimum dan minimum rataan tahunan PM2.5 secara berturut di tahun 2017 dan 2016\n",
    "Kadar maksimum dan minimum rataan tahunan PM10 secara berturut di tahun 2017 dan 2016\n",
    "Kadar maksimum dan minimum rataan tahunan SO2 secara berturut di tahun 2013 dan 2016\n",
    "Kadar maksimum dan minimum rataan tahunan NO2 secara berturut di tahun 2017 dan 2016\n",
    "Kadar maksimum dan minimum rataan tahunan CO secara berturut di tahun 2017 dan 2013\n",
    "Kadar maksimum dan minimum rataan tahunan O3 secara berturut di tahun 2015 dan 2013\n",
    "\n",
    "- Wanshouxigong\n",
    "Kadar maksimum dan minimum rataan tahunan PM2.5 secara berturut di tahun 2017 dan 2016\n",
    "Kadar maksimum dan minimum rataan tahunan PM10 secara berturut di tahun 2014 dan 2016\n",
    "Kadar maksimum dan minimum rataan tahunan SO2 secara berturut di tahun 2014 dan 2016\n",
    "Kadar maksimum dan minimum rataan tahunan NO2 secara berturut di tahun 2017 dan 2016\n",
    "Kadar maksimum dan minimum rataan tahunan CO secara berturut di tahun 2017 dan 2013\n",
    "Kadar maksimum dan minimum rataan tahunan O3 secara berturut di tahun 2015 dan 2017"
   ]
  },
  {
   "cell_type": "markdown",
   "metadata": {},
   "source": []
  }
 ],
 "metadata": {
  "kernelspec": {
   "display_name": "Python 3 (ipykernel)",
   "language": "python",
   "name": "python3"
  },
  "language_info": {
   "codemirror_mode": {
    "name": "ipython",
    "version": 3
   },
   "file_extension": ".py",
   "mimetype": "text/x-python",
   "name": "python",
   "nbconvert_exporter": "python",
   "pygments_lexer": "ipython3",
   "version": "3.11.5"
  },
  "vscode": {
   "interpreter": {
    "hash": "972b3bf27e332e87b5379f2791f6ef9dfc79c71018c370b0d7423235e20fe4d7"
   }
  }
 },
 "nbformat": 4,
 "nbformat_minor": 2
}
